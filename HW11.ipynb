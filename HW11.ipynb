{
  "nbformat": 4,
  "nbformat_minor": 0,
  "metadata": {
    "colab": {
      "name": "AlexNet.ipynb",
      "version": "0.3.2",
      "provenance": [],
      "collapsed_sections": []
    },
    "language_info": {
      "codemirror_mode": {
        "name": "ipython",
        "version": 3
      },
      "file_extension": ".py",
      "mimetype": "text/x-python",
      "name": "python",
      "nbconvert_exporter": "python",
      "pygments_lexer": "ipython3",
      "version": "3.6.8"
    },
    "kernelspec": {
      "name": "python3",
      "display_name": "Python 3"
    },
    "accelerator": "GPU"
  },
  "cells": [
    {
      "cell_type": "code",
      "metadata": {
        "colab_type": "code",
        "id": "YDbAUs3uYEy5",
        "colab": {
          "base_uri": "https://localhost:8080/",
          "height": 224
        },
        "outputId": "84354873-d1aa-4ff4-8658-81cc97b4b8c2"
      },
      "source": [
        "!apt-get install -y -qq software-properties-common python-software-properties module-init-tools\n",
        "!add-apt-repository -y ppa:alessandro-strada/ppa 2>&1 > /dev/null\n",
        "!apt-get update -qq 2>&1 > /dev/null\n",
        "!apt-get -y install -qq google-drive-ocamlfuse fuse\n",
        "from google.colab import auth\n",
        "auth.authenticate_user()\n",
        "from oauth2client.client import GoogleCredentials\n",
        "creds = GoogleCredentials.get_application_default()\n",
        "import getpass\n",
        "!google-drive-ocamlfuse -headless -id={creds.client_id} -secret={creds.client_secret} < /dev/null 2>&1 | grep URL\n",
        "vcode = getpass.getpass()\n",
        "!echo {vcode} | google-drive-ocamlfuse -headless -id={creds.client_id} -secret={creds.client_secret}\n",
        "\n",
        "\n",
        "\n",
        "!mkdir -p drive\n",
        "\n",
        "!google-drive-ocamlfuse drive"
      ],
      "execution_count": 1,
      "outputs": [
        {
          "output_type": "stream",
          "text": [
            "E: Package 'python-software-properties' has no installation candidate\n",
            "Selecting previously unselected package google-drive-ocamlfuse.\n",
            "(Reading database ... 130963 files and directories currently installed.)\n",
            "Preparing to unpack .../google-drive-ocamlfuse_0.7.6-0ubuntu1~ubuntu18.04.1_amd64.deb ...\n",
            "Unpacking google-drive-ocamlfuse (0.7.6-0ubuntu1~ubuntu18.04.1) ...\n",
            "Setting up google-drive-ocamlfuse (0.7.6-0ubuntu1~ubuntu18.04.1) ...\n",
            "Processing triggers for man-db (2.8.3-2ubuntu0.1) ...\n",
            "Please, open the following URL in a web browser: https://accounts.google.com/o/oauth2/auth?client_id=32555940559.apps.googleusercontent.com&redirect_uri=urn%3Aietf%3Awg%3Aoauth%3A2.0%3Aoob&scope=https%3A%2F%2Fwww.googleapis.com%2Fauth%2Fdrive&response_type=code&access_type=offline&approval_prompt=force\n",
            "··········\n",
            "Please, open the following URL in a web browser: https://accounts.google.com/o/oauth2/auth?client_id=32555940559.apps.googleusercontent.com&redirect_uri=urn%3Aietf%3Awg%3Aoauth%3A2.0%3Aoob&scope=https%3A%2F%2Fwww.googleapis.com%2Fauth%2Fdrive&response_type=code&access_type=offline&approval_prompt=force\n",
            "Please enter the verification code: Access token retrieved correctly.\n"
          ],
          "name": "stdout"
        }
      ]
    },
    {
      "cell_type": "markdown",
      "metadata": {
        "colab_type": "text",
        "id": "WhHNDXvWYI5R"
      },
      "source": [
        ""
      ]
    },
    {
      "cell_type": "code",
      "metadata": {
        "id": "LvQNN5gEuflJ",
        "colab_type": "code",
        "colab": {
          "base_uri": "https://localhost:8080/",
          "height": 34
        },
        "outputId": "23bd1412-0ad6-49f1-ef7b-52675e6e6ea9"
      },
      "source": [
        "!unzip -q drive/20190704/images.zip\n",
        "!ls"
      ],
      "execution_count": 2,
      "outputs": [
        {
          "output_type": "stream",
          "text": [
            "adc.json  drive  images  sample_data  test.txt\ttrain.txt  val.txt\n"
          ],
          "name": "stdout"
        }
      ]
    },
    {
      "cell_type": "code",
      "metadata": {
        "colab_type": "code",
        "id": "Hr6uu3lMzh0M",
        "colab": {}
      },
      "source": [
        "import tensorflow as tf\n",
        "from tensorflow.python.training.moving_averages import assign_moving_average\n",
        "import numpy as np\n",
        "import os\n",
        "import cv2\n",
        "import numpy as np\n",
        "import random as rn\n",
        "import tensorflow as tf\n",
        "import threading\n",
        "import time\n",
        "\n",
        "global n_classes\n",
        "n_classes = 50"
      ],
      "execution_count": 0,
      "outputs": []
    },
    {
      "cell_type": "code",
      "metadata": {
        "colab_type": "code",
        "id": "wyEhNlDlzh0P",
        "outputId": "01cfea97-3d40-4faf-f79c-865e9e9078e3",
        "colab": {
          "base_uri": "https://localhost:8080/",
          "height": 105
        }
      },
      "source": [
        "_weights = {\n",
        "        'wc1': tf.get_variable(\"wc1\", [7, 7, 3, 96], initializer=tf.glorot_uniform_initializer()),\n",
        "        'wc2': tf.get_variable('wc2',[5, 5, 96, 256], initializer=tf.glorot_uniform_initializer()),\n",
        "        'wc3': tf.get_variable('wc3',[3, 3, 256, 384], initializer=tf.glorot_uniform_initializer()),\n",
        "        'wc4': tf.get_variable('wc4',[3, 3, 384, 384], initializer=tf.glorot_uniform_initializer()),\n",
        "        'wc5': tf.get_variable('wc5',[3, 3, 384, 256], initializer=tf.glorot_uniform_initializer()),\n",
        "        'wd2': tf.get_variable('wd2',[4096, 4096], initializer=tf.glorot_uniform_initializer()),\n",
        "        'out': tf.get_variable('out',[4096, n_classes], initializer=tf.glorot_uniform_initializer())\n",
        "    }\n",
        "_biases = {\n",
        "        'bc1': tf.get_variable('bc1',[96], initializer=tf.glorot_uniform_initializer()),\n",
        "        'bc2': tf.get_variable('bc2',[256], initializer=tf.glorot_uniform_initializer()),\n",
        "        'bc3': tf.get_variable('bc3',[384], initializer=tf.glorot_uniform_initializer()),\n",
        "        'bc4': tf.get_variable('bc4',[384], initializer=tf.glorot_uniform_initializer()),\n",
        "        'bc5': tf.get_variable('bc5',[256], initializer=tf.glorot_uniform_initializer()),\n",
        "        'bd2': tf.get_variable('db2',[4096], initializer=tf.glorot_uniform_initializer()),\n",
        "        'out': tf.get_variable('bout',[n_classes], initializer=tf.glorot_uniform_initializer())\n",
        "    }"
      ],
      "execution_count": 0,
      "outputs": [
        {
          "output_type": "stream",
          "text": [
            "WARNING: Logging before flag parsing goes to stderr.\n",
            "W0710 03:48:28.020361 140204161222528 deprecation.py:506] From /usr/local/lib/python3.6/dist-packages/tensorflow/python/ops/init_ops.py:1251: calling VarianceScaling.__init__ (from tensorflow.python.ops.init_ops) with dtype is deprecated and will be removed in a future version.\n",
            "Instructions for updating:\n",
            "Call initializer instance with the dtype argument instead of passing it to the constructor\n"
          ],
          "name": "stderr"
        }
      ]
    },
    {
      "cell_type": "code",
      "metadata": {
        "colab_type": "code",
        "id": "Z-Oekfd9zh0Q",
        "colab": {}
      },
      "source": [
        "def activation(x,name=\"activation\"):\n",
        "    return tf.nn.relu(x, name=name)\n",
        "    \n",
        "def conv2d(name, l_input, w, b, s, p, scope):\n",
        "    l_input = tf.nn.conv2d(l_input, w, strides=[1,s,s,1], padding=p, name=name)\n",
        "    l_input = activation(l_input+b)\n",
        "    \n",
        "    return l_input\n",
        "\n",
        "def max_pool(name, l_input, k, s):\n",
        "    return tf.nn.max_pool(l_input, ksize=[1, k, k, 1], strides=[1, s, s, 1], padding='VALID', name=name)\n",
        "\n",
        "def norm(l_input, lsize=4, name=\"lrn\"):\n",
        "    return tf.nn.lrn(l_input, lsize, bias=1.0, alpha=0.001 / 9.0, beta=0.75, name=name)\n"
      ],
      "execution_count": 0,
      "outputs": []
    },
    {
      "cell_type": "code",
      "metadata": {
        "colab_type": "code",
        "id": "94VSiHqhzh0S",
        "colab": {}
      },
      "source": [
        "   \n",
        "def alex_net(_X, _dropout, batch_size):\n",
        "    conv1 = conv2d('conv1', _X, _weights['wc1'], _biases['bc1'], 3, 'VALID', 'conv1')\n",
        "    pool1 = max_pool('pool1', conv1, k=3,s=2)\n",
        "    conv2 = conv2d('conv2', pool1, _weights['wc2'], _biases['bc2'], 1, 'SAME', 'conv2')\n",
        "    pool2 = max_pool('pool2', conv2, k=3,s=2)\n",
        "    conv3 = conv2d('conv3', pool2, _weights['wc3'], _biases['bc3'], 1, 'SAME', 'conv3')\n",
        "    conv4 = conv2d('conv4', conv3, _weights['wc4'], _biases['bc4'], 1, 'SAME', 'conv4')\n",
        "    conv5 = conv2d('conv5', conv4, _weights['wc5'], _biases['bc5'], 1, 'SAME', 'conv5')\n",
        "    pool5 = max_pool('pool2', conv5, k=3,s=2)\n",
        "    # Find current size of conv5 to fit the requirement of FC1.\n",
        "    sizes = pool5.get_shape().as_list()\n",
        "    neurons =  sizes[1]*sizes[2]*sizes[3]\n",
        "    dense1 = tf.reshape(pool5, [batch_size, neurons]) # Reshape conv5 output to fit dense layer input\n",
        "    wei_den1 = tf.get_variable('wd3',[neurons, 4096], initializer=tf.glorot_uniform_initializer())\n",
        "    b_den1 =  tf.get_variable('wd4',[4096], initializer=tf.glorot_uniform_initializer())\n",
        "    \n",
        "    dense1 = activation(tf.matmul(dense1, wei_den1) + b_den1, name='fc1') # Relu activation\n",
        "    dd1=tf.nn.dropout(dense1, _dropout)\n",
        "    dense2 = activation(tf.matmul(dd1, _weights['wd2']) + _biases['bd2'], name='fc2') # Relu activation\n",
        "    out = tf.matmul(dense2, _weights['out']) + _biases['out'] # Relu activation\n",
        "\n",
        "    return out"
      ],
      "execution_count": 0,
      "outputs": []
    },
    {
      "cell_type": "code",
      "metadata": {
        "colab_type": "code",
        "id": "tCNUC9U1zh0U",
        "colab": {}
      },
      "source": [
        "#==========================================================================\n",
        "#=============Reading data in multithreading manner========================\n",
        "#==========================================================================\n",
        "def read_labeled_image_list(image_list_file, training_img_dir):\n",
        "    \"\"\"Reads a .txt file containing pathes and labeles\n",
        "    Args:\n",
        "       image_list_file: a .txt file with one /path/to/image per line\n",
        "       label: optionally, if set label will be pasted after each line\n",
        "    Returns:\n",
        "       List with all filenames in file image_list_file\n",
        "    \"\"\"\n",
        "    f = open(image_list_file, 'r')\n",
        "    filenames = []\n",
        "    labels = []\n",
        "\n",
        "    for line in f:\n",
        "        filename, label = line[:-1].split(' ')\n",
        "        filename = training_img_dir+filename\n",
        "        filenames.append(filename)\n",
        "        labels.append(int(label))\n",
        "        \n",
        "    return filenames, labels\n",
        "    \n",
        "    \n",
        "def read_images_from_disk(input_queue, size1=256):\n",
        "    \"\"\"Consumes a single filename and label as a ' '-delimited string.\n",
        "    Args:\n",
        "      filename_and_label_tensor: A scalar string tensor.\n",
        "    Returns:\n",
        "      Two tensors: the decoded image, and the string label.\n",
        "    \"\"\"\n",
        "    label = input_queue[1]\n",
        "    fn=input_queue[0]\n",
        "    file_contents = tf.read_file(input_queue[0])\n",
        "    example = tf.image.decode_jpeg(file_contents, channels=3)\n",
        "    \n",
        "    #example = tf.image.decode_png(file_contents, channels=3, name=\"dataset_image\") # png fo rlfw\n",
        "    example=tf.image.resize_images(example, [size1,size1])\n",
        "    return example, label, fn\n",
        "    \n",
        "def setup_inputs(sess, filenames, training_img_dir, image_size=256, crop_size=224, isTest=False, batch_size=128):\n",
        "    \n",
        "    # Read each image file\n",
        "    image_list, label_list = read_labeled_image_list(filenames, training_img_dir)\n",
        "\n",
        "    images = tf.cast(image_list, tf.string)\n",
        "    labels = tf.cast(label_list, tf.int64)\n",
        "     # Makes an input queue\n",
        "    if isTest is False:\n",
        "        isShuffle = True\n",
        "    else:\n",
        "        isShuffle = False\n",
        "        \n",
        "    input_queue = tf.train.slice_input_producer([images, labels], shuffle=isShuffle)\n",
        "    image, y,fn = read_images_from_disk(input_queue)\n",
        "\n",
        "    channels = 3\n",
        "    image.set_shape([None, None, channels])\n",
        "        \n",
        "    # Crop and other random augmentations\n",
        "    if isTest is False:\n",
        "        image = tf.image.random_flip_left_right(image)\n",
        "        image = tf.image.random_saturation(image, .95, 1.05)\n",
        "        image = tf.image.random_brightness(image, .05)\n",
        "        image = tf.image.random_contrast(image, .95, 1.05)\n",
        "        \n",
        "\n",
        "    image = tf.random_crop(image, [crop_size, crop_size, 3])\n",
        "    image = tf.cast(image, tf.float32)/255.0\n",
        "    \n",
        "    image, y,fn = tf.train.batch([image, y, fn], batch_size=batch_size, capacity=4,name='labels_and_images')\n",
        "\n",
        "    tf.train.start_queue_runners(sess=sess)\n",
        "\n",
        "    return image, y, fn, len(label_list)\n"
      ],
      "execution_count": 0,
      "outputs": []
    },
    {
      "cell_type": "code",
      "metadata": {
        "colab_type": "code",
        "id": "h7AtFd4czh0W",
        "colab": {}
      },
      "source": [
        "# Training setting\n",
        "batch_size = 128 \n",
        "display_step = 80\n",
        "dropout = 0.5# Dropout rate\n"
      ],
      "execution_count": 0,
      "outputs": []
    },
    {
      "cell_type": "code",
      "metadata": {
        "colab_type": "code",
        "id": "7LCc7xsQzh0Y",
        "outputId": "a06c759a-7ab4-43cf-e0fc-f426207a8041",
        "colab": {
          "base_uri": "https://localhost:8080/",
          "height": 581
        }
      },
      "source": [
        "keep_prob = tf.placeholder(tf.float32)          # Dropout rate to be fed\n",
        "learning_rate = tf.placeholder(tf.float32)      # Learning rate to be fed\n",
        "lr = 1e-3                                   # Learning rate start\n",
        "\n",
        "# Setup the tensorflow...\n",
        "config = tf.ConfigProto()\n",
        "config.gpu_options.allow_growth = True\n",
        "sess = tf.Session(config=config)\n",
        "\n",
        "print(\"Preparing the training & validation data...\")\n",
        "train_data, train_labels, filelist1, glen1 = setup_inputs(sess, \"train.txt\", \"./\", batch_size=batch_size)\n",
        "val_data, val_labels, filelist2, tlen1 = setup_inputs(sess, \"val.txt\", \"./\", batch_size=batch_size)\n",
        "\n",
        "max_iter = glen1*100\n",
        "\n",
        "print(\"Preparing the training model with learning rate = %.5f...\" % (lr))\n",
        "\n",
        "with tf.variable_scope(\"alexnet\", reuse=tf.AUTO_REUSE) as scope:\n",
        "    pred = alex_net(train_data,keep_prob,batch_size)\n",
        "\n",
        "with tf.name_scope('Loss_and_Accuracy'):\n",
        "  cost = tf.losses.sparse_softmax_cross_entropy(labels=train_labels, logits=pred)\n",
        "  optimizer = tf.train.AdamOptimizer(learning_rate=learning_rate).minimize(cost)\n",
        "  correct_prediction = tf.equal(tf.argmax(pred, 1), train_labels)\n",
        "  accuracy = tf.reduce_mean(tf.cast(correct_prediction, tf.float32))\n",
        "  top5=tf.reduce_mean(tf.cast(tf.nn.in_top_k(pred, train_labels, 5), tf.float32))\n",
        "  \n",
        "  tf.summary.scalar('Loss', cost)\n",
        "  tf.summary.scalar('Training_Accuracy', accuracy)\n",
        "  tf.summary.scalar('Top-5_accuracy', top5)\n"
      ],
      "execution_count": 0,
      "outputs": [
        {
          "output_type": "stream",
          "text": [
            "Preparing the training & validation data...\n"
          ],
          "name": "stdout"
        },
        {
          "output_type": "stream",
          "text": [
            "W0710 03:48:30.235584 140204161222528 deprecation.py:323] From <ipython-input-12-b45acdff6d74>:51: slice_input_producer (from tensorflow.python.training.input) is deprecated and will be removed in a future version.\n",
            "Instructions for updating:\n",
            "Queue-based input pipelines have been replaced by `tf.data`. Use `tf.data.Dataset.from_tensor_slices(tuple(tensor_list)).shuffle(tf.shape(input_tensor, out_type=tf.int64)[0]).repeat(num_epochs)`. If `shuffle=False`, omit the `.shuffle(...)`.\n",
            "W0710 03:48:30.245078 140204161222528 deprecation.py:323] From /usr/local/lib/python3.6/dist-packages/tensorflow/python/training/input.py:374: range_input_producer (from tensorflow.python.training.input) is deprecated and will be removed in a future version.\n",
            "Instructions for updating:\n",
            "Queue-based input pipelines have been replaced by `tf.data`. Use `tf.data.Dataset.range(limit).shuffle(limit).repeat(num_epochs)`. If `shuffle=False`, omit the `.shuffle(...)`.\n",
            "W0710 03:48:30.268794 140204161222528 deprecation.py:323] From /usr/local/lib/python3.6/dist-packages/tensorflow/python/training/input.py:320: input_producer (from tensorflow.python.training.input) is deprecated and will be removed in a future version.\n",
            "Instructions for updating:\n",
            "Queue-based input pipelines have been replaced by `tf.data`. Use `tf.data.Dataset.from_tensor_slices(input_tensor).shuffle(tf.shape(input_tensor, out_type=tf.int64)[0]).repeat(num_epochs)`. If `shuffle=False`, omit the `.shuffle(...)`.\n",
            "W0710 03:48:30.271200 140204161222528 deprecation.py:323] From /usr/local/lib/python3.6/dist-packages/tensorflow/python/training/input.py:190: limit_epochs (from tensorflow.python.training.input) is deprecated and will be removed in a future version.\n",
            "Instructions for updating:\n",
            "Queue-based input pipelines have been replaced by `tf.data`. Use `tf.data.Dataset.from_tensors(tensor).repeat(num_epochs)`.\n",
            "W0710 03:48:30.277157 140204161222528 deprecation.py:323] From /usr/local/lib/python3.6/dist-packages/tensorflow/python/training/input.py:199: QueueRunner.__init__ (from tensorflow.python.training.queue_runner_impl) is deprecated and will be removed in a future version.\n",
            "Instructions for updating:\n",
            "To construct input pipelines, use the `tf.data` module.\n",
            "W0710 03:48:30.280818 140204161222528 deprecation.py:323] From /usr/local/lib/python3.6/dist-packages/tensorflow/python/training/input.py:199: add_queue_runner (from tensorflow.python.training.queue_runner_impl) is deprecated and will be removed in a future version.\n",
            "Instructions for updating:\n",
            "To construct input pipelines, use the `tf.data` module.\n",
            "W0710 03:48:30.338616 140204161222528 deprecation.py:323] From <ipython-input-12-b45acdff6d74>:68: batch (from tensorflow.python.training.input) is deprecated and will be removed in a future version.\n",
            "Instructions for updating:\n",
            "Queue-based input pipelines have been replaced by `tf.data`. Use `tf.data.Dataset.batch(batch_size)` (or `padded_batch(...)` if `dynamic_pad=True`).\n",
            "W0710 03:48:30.350553 140204161222528 deprecation.py:323] From <ipython-input-12-b45acdff6d74>:70: start_queue_runners (from tensorflow.python.training.queue_runner_impl) is deprecated and will be removed in a future version.\n",
            "Instructions for updating:\n",
            "To construct input pipelines, use the `tf.data` module.\n"
          ],
          "name": "stderr"
        },
        {
          "output_type": "stream",
          "text": [
            "Preparing the training model with learning rate = 0.00100...\n"
          ],
          "name": "stdout"
        },
        {
          "output_type": "stream",
          "text": [
            "W0710 03:48:30.902187 140204161222528 deprecation.py:506] From <ipython-input-11-5f240c5a2da9>:19: calling dropout (from tensorflow.python.ops.nn_ops) with keep_prob is deprecated and will be removed in a future version.\n",
            "Instructions for updating:\n",
            "Please use `rate` instead of `keep_prob`. Rate should be set to `rate = 1 - keep_prob`.\n",
            "W0710 03:48:30.943605 140204161222528 deprecation.py:323] From /usr/local/lib/python3.6/dist-packages/tensorflow/python/ops/losses/losses_impl.py:121: add_dispatch_support.<locals>.wrapper (from tensorflow.python.ops.array_ops) is deprecated and will be removed in a future version.\n",
            "Instructions for updating:\n",
            "Use tf.where in 2.0, which has the same broadcast rule as np.where\n"
          ],
          "name": "stderr"
        }
      ]
    },
    {
      "cell_type": "code",
      "metadata": {
        "colab_type": "code",
        "id": "3CGfQ_Cbzh0c",
        "outputId": "187fc671-3221-4c37-bcd6-90781962eccb",
        "colab": {
          "base_uri": "https://localhost:8080/",
          "height": 1000
        }
      },
      "source": [
        "saver = tf.train.Saver()\n",
        "init = tf.global_variables_initializer()\n",
        "sess.run(init)\n",
        "step = 0\n",
        "writer = tf.summary.FileWriter(\"/tmp/log2\", sess.graph)\n",
        "summaries = tf.summary.merge_all()\n",
        "\n",
        "print(\"We are going to train the ImageNet model based on AlexNet!!!\")\n",
        "while (step * batch_size) < max_iter:\n",
        "    epoch1=np.floor((step*batch_size)/glen1)\n",
        "    if (((step*batch_size)%glen1 < batch_size) & (lr==1e-3) & (epoch1 >2)):\n",
        "        lr /= 10\n",
        "\n",
        "    sess.run(optimizer,  feed_dict={keep_prob: dropout, learning_rate: lr})\n",
        "\n",
        "    if (step % 15000==1) & (step>15000):\n",
        "        save_path = saver.save(sess, \"checkpoint/tf_alex_model_iter\" + str(step) + \".ckpt\")\n",
        "        print(\"Model saved in file at iteration %d: %s\" % (step*batch_size,save_path))\n",
        "\n",
        "    if step % display_step == 1:\n",
        "        # calculate the loss\n",
        "        loss, acc, top5acc, summaries_string = sess.run([cost, accuracy, top5, summaries], feed_dict={keep_prob: 1.})\n",
        "        print(\"Iter=%d/epoch=%d, Loss=%.6f, Training Accuracy=%.6f, Top-5 Accuracy=%.6f, lr=%f\" % (step*batch_size, epoch1 ,loss, acc, top5acc, lr))\n",
        "        writer.add_summary(summaries_string, step)\n",
        "\n",
        "\n",
        "    step += 1\n",
        "print(\"Optimization Finished!\")\n",
        "save_path = saver.save(sess, \"checkpoint/tf_alex_model.ckpt\")\n",
        "print(\"Model saved in file: %s\" % save_path)"
      ],
      "execution_count": 0,
      "outputs": [
        {
          "output_type": "stream",
          "text": [
            "We are going to train the ImageNet model based on AlexNet!!!\n",
            "Iter=128/epoch=0, Loss=4.616836, Training Accuracy=0.015625, Top-5 Accuracy=0.085938, lr=0.001000\n",
            "Iter=10368/epoch=0, Loss=3.772594, Training Accuracy=0.062500, Top-5 Accuracy=0.265625, lr=0.001000\n",
            "Iter=20608/epoch=0, Loss=3.732362, Training Accuracy=0.039062, Top-5 Accuracy=0.210938, lr=0.001000\n",
            "Iter=30848/epoch=0, Loss=3.642218, Training Accuracy=0.062500, Top-5 Accuracy=0.304688, lr=0.001000\n",
            "Iter=41088/epoch=0, Loss=3.615488, Training Accuracy=0.078125, Top-5 Accuracy=0.242188, lr=0.001000\n",
            "Iter=51328/epoch=0, Loss=3.659596, Training Accuracy=0.054688, Top-5 Accuracy=0.250000, lr=0.001000\n",
            "Iter=61568/epoch=0, Loss=3.538423, Training Accuracy=0.101562, Top-5 Accuracy=0.289062, lr=0.001000\n",
            "Iter=71808/epoch=1, Loss=3.465950, Training Accuracy=0.125000, Top-5 Accuracy=0.367188, lr=0.001000\n",
            "Iter=82048/epoch=1, Loss=3.311487, Training Accuracy=0.093750, Top-5 Accuracy=0.390625, lr=0.001000\n",
            "Iter=92288/epoch=1, Loss=3.199097, Training Accuracy=0.164062, Top-5 Accuracy=0.437500, lr=0.001000\n",
            "Iter=102528/epoch=1, Loss=3.224940, Training Accuracy=0.109375, Top-5 Accuracy=0.406250, lr=0.001000\n",
            "Iter=112768/epoch=1, Loss=3.216402, Training Accuracy=0.148438, Top-5 Accuracy=0.453125, lr=0.001000\n",
            "Iter=123008/epoch=1, Loss=3.080033, Training Accuracy=0.156250, Top-5 Accuracy=0.453125, lr=0.001000\n",
            "Iter=133248/epoch=2, Loss=2.881807, Training Accuracy=0.187500, Top-5 Accuracy=0.546875, lr=0.001000\n",
            "Iter=143488/epoch=2, Loss=2.938490, Training Accuracy=0.164062, Top-5 Accuracy=0.523438, lr=0.001000\n",
            "Iter=153728/epoch=2, Loss=2.866004, Training Accuracy=0.257812, Top-5 Accuracy=0.546875, lr=0.001000\n",
            "Iter=163968/epoch=2, Loss=2.788629, Training Accuracy=0.179688, Top-5 Accuracy=0.578125, lr=0.001000\n",
            "Iter=174208/epoch=2, Loss=2.964005, Training Accuracy=0.187500, Top-5 Accuracy=0.554688, lr=0.001000\n",
            "Iter=184448/epoch=2, Loss=2.675045, Training Accuracy=0.218750, Top-5 Accuracy=0.632812, lr=0.001000\n",
            "Iter=194688/epoch=3, Loss=2.586549, Training Accuracy=0.257812, Top-5 Accuracy=0.640625, lr=0.000100\n",
            "Iter=204928/epoch=3, Loss=2.578189, Training Accuracy=0.320312, Top-5 Accuracy=0.617188, lr=0.000100\n",
            "Iter=215168/epoch=3, Loss=2.301489, Training Accuracy=0.367188, Top-5 Accuracy=0.679688, lr=0.000100\n",
            "Iter=225408/epoch=3, Loss=2.513851, Training Accuracy=0.203125, Top-5 Accuracy=0.648438, lr=0.000100\n",
            "Iter=235648/epoch=3, Loss=2.405231, Training Accuracy=0.351562, Top-5 Accuracy=0.703125, lr=0.000100\n",
            "Iter=245888/epoch=3, Loss=2.459743, Training Accuracy=0.328125, Top-5 Accuracy=0.625000, lr=0.000100\n",
            "Iter=256128/epoch=4, Loss=2.496192, Training Accuracy=0.304688, Top-5 Accuracy=0.679688, lr=0.000100\n",
            "Iter=266368/epoch=4, Loss=2.354367, Training Accuracy=0.289062, Top-5 Accuracy=0.687500, lr=0.000100\n",
            "Iter=276608/epoch=4, Loss=2.453591, Training Accuracy=0.312500, Top-5 Accuracy=0.679688, lr=0.000100\n",
            "Iter=286848/epoch=4, Loss=2.381836, Training Accuracy=0.312500, Top-5 Accuracy=0.703125, lr=0.000100\n",
            "Iter=297088/epoch=4, Loss=2.311779, Training Accuracy=0.351562, Top-5 Accuracy=0.710938, lr=0.000100\n",
            "Iter=307328/epoch=4, Loss=2.445187, Training Accuracy=0.250000, Top-5 Accuracy=0.710938, lr=0.000100\n",
            "Iter=317568/epoch=5, Loss=2.310423, Training Accuracy=0.320312, Top-5 Accuracy=0.664062, lr=0.000100\n",
            "Iter=327808/epoch=5, Loss=2.473854, Training Accuracy=0.429688, Top-5 Accuracy=0.656250, lr=0.000100\n",
            "Iter=338048/epoch=5, Loss=2.272147, Training Accuracy=0.390625, Top-5 Accuracy=0.687500, lr=0.000100\n",
            "Iter=348288/epoch=5, Loss=2.417958, Training Accuracy=0.250000, Top-5 Accuracy=0.687500, lr=0.000100\n",
            "Iter=358528/epoch=5, Loss=2.370951, Training Accuracy=0.320312, Top-5 Accuracy=0.664062, lr=0.000100\n",
            "Iter=368768/epoch=5, Loss=2.423270, Training Accuracy=0.257812, Top-5 Accuracy=0.648438, lr=0.000100\n",
            "Iter=379008/epoch=5, Loss=2.388639, Training Accuracy=0.328125, Top-5 Accuracy=0.703125, lr=0.000100\n",
            "Iter=389248/epoch=6, Loss=2.207844, Training Accuracy=0.390625, Top-5 Accuracy=0.710938, lr=0.000100\n",
            "Iter=399488/epoch=6, Loss=2.131769, Training Accuracy=0.445312, Top-5 Accuracy=0.726562, lr=0.000100\n",
            "Iter=409728/epoch=6, Loss=2.326991, Training Accuracy=0.367188, Top-5 Accuracy=0.679688, lr=0.000100\n",
            "Iter=419968/epoch=6, Loss=2.253394, Training Accuracy=0.375000, Top-5 Accuracy=0.703125, lr=0.000100\n",
            "Iter=430208/epoch=6, Loss=2.142073, Training Accuracy=0.390625, Top-5 Accuracy=0.710938, lr=0.000100\n",
            "Iter=440448/epoch=6, Loss=2.352987, Training Accuracy=0.320312, Top-5 Accuracy=0.679688, lr=0.000100\n",
            "Iter=450688/epoch=7, Loss=2.144141, Training Accuracy=0.414062, Top-5 Accuracy=0.757812, lr=0.000100\n",
            "Iter=460928/epoch=7, Loss=2.324786, Training Accuracy=0.304688, Top-5 Accuracy=0.679688, lr=0.000100\n",
            "Iter=471168/epoch=7, Loss=2.311665, Training Accuracy=0.367188, Top-5 Accuracy=0.750000, lr=0.000100\n",
            "Iter=481408/epoch=7, Loss=2.280509, Training Accuracy=0.343750, Top-5 Accuracy=0.710938, lr=0.000100\n",
            "Iter=491648/epoch=7, Loss=2.206347, Training Accuracy=0.359375, Top-5 Accuracy=0.734375, lr=0.000100\n",
            "Iter=501888/epoch=7, Loss=2.019677, Training Accuracy=0.429688, Top-5 Accuracy=0.757812, lr=0.000100\n",
            "Iter=512128/epoch=8, Loss=2.105190, Training Accuracy=0.390625, Top-5 Accuracy=0.773438, lr=0.000100\n",
            "Iter=522368/epoch=8, Loss=2.109143, Training Accuracy=0.398438, Top-5 Accuracy=0.687500, lr=0.000100\n",
            "Iter=532608/epoch=8, Loss=2.099962, Training Accuracy=0.414062, Top-5 Accuracy=0.703125, lr=0.000100\n",
            "Iter=542848/epoch=8, Loss=2.289512, Training Accuracy=0.429688, Top-5 Accuracy=0.656250, lr=0.000100\n",
            "Iter=553088/epoch=8, Loss=2.156580, Training Accuracy=0.406250, Top-5 Accuracy=0.718750, lr=0.000100\n",
            "Iter=563328/epoch=8, Loss=2.013720, Training Accuracy=0.453125, Top-5 Accuracy=0.796875, lr=0.000100\n",
            "Iter=573568/epoch=9, Loss=2.140059, Training Accuracy=0.398438, Top-5 Accuracy=0.742188, lr=0.000100\n",
            "Iter=583808/epoch=9, Loss=2.011657, Training Accuracy=0.406250, Top-5 Accuracy=0.796875, lr=0.000100\n",
            "Iter=594048/epoch=9, Loss=2.064428, Training Accuracy=0.414062, Top-5 Accuracy=0.742188, lr=0.000100\n",
            "Iter=604288/epoch=9, Loss=1.924512, Training Accuracy=0.414062, Top-5 Accuracy=0.765625, lr=0.000100\n",
            "Iter=614528/epoch=9, Loss=2.047843, Training Accuracy=0.367188, Top-5 Accuracy=0.742188, lr=0.000100\n",
            "Iter=624768/epoch=9, Loss=2.179377, Training Accuracy=0.390625, Top-5 Accuracy=0.734375, lr=0.000100\n",
            "Iter=635008/epoch=10, Loss=1.944207, Training Accuracy=0.507812, Top-5 Accuracy=0.796875, lr=0.000100\n",
            "Iter=645248/epoch=10, Loss=1.824859, Training Accuracy=0.390625, Top-5 Accuracy=0.796875, lr=0.000100\n",
            "Iter=655488/epoch=10, Loss=1.940776, Training Accuracy=0.429688, Top-5 Accuracy=0.796875, lr=0.000100\n",
            "Iter=665728/epoch=10, Loss=2.078710, Training Accuracy=0.382812, Top-5 Accuracy=0.742188, lr=0.000100\n",
            "Iter=675968/epoch=10, Loss=1.805582, Training Accuracy=0.476562, Top-5 Accuracy=0.851562, lr=0.000100\n",
            "Iter=686208/epoch=10, Loss=1.927009, Training Accuracy=0.421875, Top-5 Accuracy=0.781250, lr=0.000100\n",
            "Iter=696448/epoch=10, Loss=1.849329, Training Accuracy=0.484375, Top-5 Accuracy=0.789062, lr=0.000100\n",
            "Iter=706688/epoch=11, Loss=2.015336, Training Accuracy=0.429688, Top-5 Accuracy=0.765625, lr=0.000100\n",
            "Iter=716928/epoch=11, Loss=2.073572, Training Accuracy=0.398438, Top-5 Accuracy=0.757812, lr=0.000100\n",
            "Iter=727168/epoch=11, Loss=1.916732, Training Accuracy=0.406250, Top-5 Accuracy=0.828125, lr=0.000100\n",
            "Iter=737408/epoch=11, Loss=1.711923, Training Accuracy=0.484375, Top-5 Accuracy=0.820312, lr=0.000100\n",
            "Iter=747648/epoch=11, Loss=1.948422, Training Accuracy=0.343750, Top-5 Accuracy=0.820312, lr=0.000100\n",
            "Iter=757888/epoch=11, Loss=1.684799, Training Accuracy=0.453125, Top-5 Accuracy=0.867188, lr=0.000100\n",
            "Iter=768128/epoch=12, Loss=1.859159, Training Accuracy=0.460938, Top-5 Accuracy=0.757812, lr=0.000100\n",
            "Iter=778368/epoch=12, Loss=1.951780, Training Accuracy=0.484375, Top-5 Accuracy=0.773438, lr=0.000100\n",
            "Iter=788608/epoch=12, Loss=1.949756, Training Accuracy=0.468750, Top-5 Accuracy=0.742188, lr=0.000100\n",
            "Iter=798848/epoch=12, Loss=1.795835, Training Accuracy=0.500000, Top-5 Accuracy=0.796875, lr=0.000100\n",
            "Iter=809088/epoch=12, Loss=1.903748, Training Accuracy=0.460938, Top-5 Accuracy=0.828125, lr=0.000100\n",
            "Iter=819328/epoch=12, Loss=1.797964, Training Accuracy=0.468750, Top-5 Accuracy=0.820312, lr=0.000100\n",
            "Iter=829568/epoch=13, Loss=2.027990, Training Accuracy=0.445312, Top-5 Accuracy=0.734375, lr=0.000100\n",
            "Iter=839808/epoch=13, Loss=1.548389, Training Accuracy=0.539062, Top-5 Accuracy=0.875000, lr=0.000100\n",
            "Iter=850048/epoch=13, Loss=1.775223, Training Accuracy=0.468750, Top-5 Accuracy=0.835938, lr=0.000100\n",
            "Iter=860288/epoch=13, Loss=1.611857, Training Accuracy=0.523438, Top-5 Accuracy=0.843750, lr=0.000100\n",
            "Iter=870528/epoch=13, Loss=1.656907, Training Accuracy=0.484375, Top-5 Accuracy=0.851562, lr=0.000100\n",
            "Iter=880768/epoch=13, Loss=1.681786, Training Accuracy=0.515625, Top-5 Accuracy=0.828125, lr=0.000100\n",
            "Iter=891008/epoch=14, Loss=1.708984, Training Accuracy=0.476562, Top-5 Accuracy=0.835938, lr=0.000100\n",
            "Iter=901248/epoch=14, Loss=1.656935, Training Accuracy=0.531250, Top-5 Accuracy=0.812500, lr=0.000100\n"
          ],
          "name": "stdout"
        }
      ]
    },
    {
      "cell_type": "code",
      "metadata": {
        "colab_type": "code",
        "id": "AOQOeejKzh0f",
        "colab": {}
      },
      "source": [
        "exit()"
      ],
      "execution_count": 0,
      "outputs": []
    },
    {
      "cell_type": "code",
      "metadata": {
        "colab_type": "code",
        "id": "sr0obIo2zh0g",
        "colab": {}
      },
      "source": [
        ""
      ],
      "execution_count": 0,
      "outputs": []
    }
  ]
}